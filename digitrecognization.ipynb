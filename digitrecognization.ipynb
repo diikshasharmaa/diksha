{
  "nbformat": 4,
  "nbformat_minor": 0,
  "metadata": {
    "colab": {
      "private_outputs": true,
      "provenance": [],
      "authorship_tag": "ABX9TyMSWk9lM4OC8+GadU5sslzP",
      "include_colab_link": true
    },
    "kernelspec": {
      "name": "python3",
      "display_name": "Python 3"
    },
    "language_info": {
      "name": "python"
    }
  },
  "cells": [
    {
      "cell_type": "markdown",
      "metadata": {
        "id": "view-in-github",
        "colab_type": "text"
      },
      "source": [
        "<a href=\"https://colab.research.google.com/github/diikshasharmaa/diksha/blob/main/digitrecognization.ipynb\" target=\"_parent\"><img src=\"https://colab.research.google.com/assets/colab-badge.svg\" alt=\"Open In Colab\"/></a>"
      ]
    },
    {
      "cell_type": "code",
      "execution_count": null,
      "metadata": {
        "id": "4bg1UFdEMa6N"
      },
      "outputs": [],
      "source": [
        "import tensorflow as tf\n",
        "import matplotlib.pyplot as plt\n",
        "import seaborn as sn\n",
        "import numpy as np # linear algebra\n",
        "import pandas as pd # data processing, CSV file I/O (e.g. pd.read_csv)\n",
        "import math\n",
        "import datetime\n",
        "import platform\n",
        "\n",
        "# Input data files are available in the read-only \"../input/\" directory\n",
        "# For example, running this (by clicking run or pressing Shift+Enter) will list all files under the input directory\n",
        "\n",
        "import os\n",
        "for dirname, _, filenames in os.walk('/content/train.csv.zip'):\n",
        "    for filename in filenames:\n",
        "        print(os.path.join(dirname, filename))\n",
        "import os\n",
        "for dirname, _, filenames in os.walk('/content/test.csv.zip'):\n",
        "    for filename in filenames:\n",
        "        print(os.path.join(dirname, filename))\n"
      ]
    },
    {
      "cell_type": "code",
      "source": [
        "!pip install pandas\n",
        "import pandas as pd\n",
        "\n",
        "# Load the data from a CSV file\n",
        "train = pd.read_csv(\"/content/sample_data/california_housing_test.csv\")\n",
        "test = pd.read_csv(\"/content/sample_data/california_housing_train.csv\")"
      ],
      "metadata": {
        "id": "m_fl2iYyLGIr"
      },
      "execution_count": null,
      "outputs": []
    },
    {
      "cell_type": "code",
      "source": [
        "import tensorflow as tf\n",
        "\n",
        "# Check if tf.keras is imported\n",
        "if 'keras' in tf.__dict__:\n",
        "    print('tf.keras is imported')\n",
        "else:\n",
        "    print('tf.keras is not imported')"
      ],
      "metadata": {
        "id": "I-EQs1oiD77u"
      },
      "execution_count": null,
      "outputs": []
    },
    {
      "cell_type": "code",
      "source": [
        "!pip install keras"
      ],
      "metadata": {
        "id": "uctVEqPKECe9"
      },
      "execution_count": null,
      "outputs": []
    },
    {
      "cell_type": "code",
      "source": [
        "import tensorflow as tf\n",
        "import keras\n",
        "\n",
        "print('TensorFlow version:', tf.__version__)\n",
        "print('Keras version:', keras.__version__)"
      ],
      "metadata": {
        "id": "wnzGFF7tEIUH"
      },
      "execution_count": null,
      "outputs": []
    },
    {
      "cell_type": "code",
      "source": [
        "!pip install --upgrade tensorflow\n",
        "!pip install --upgrade keras"
      ],
      "metadata": {
        "id": "zP0zCfd2ENgI"
      },
      "execution_count": null,
      "outputs": []
    },
    {
      "cell_type": "code",
      "source": [
        "%load_ext tensorboard"
      ],
      "metadata": {
        "id": "TalUsOjvEYfE"
      },
      "execution_count": null,
      "outputs": []
    },
    {
      "cell_type": "code",
      "source": [
        "!rm -rf ./.logs/\n"
      ],
      "metadata": {
        "id": "o_XE2za_EaBo"
      },
      "execution_count": null,
      "outputs": []
    },
    {
      "cell_type": "code",
      "source": [
        "import pandas as pd\n",
        "train = pd.read_csv('/content/sample_data/california_housing_train.csv')\n",
        "test = pd.read_csv('/content/sample_data/california_housing_test.csv')"
      ],
      "metadata": {
        "id": "KJA9lrZiEdec"
      },
      "execution_count": null,
      "outputs": []
    },
    {
      "cell_type": "code",
      "source": [
        "train.head()"
      ],
      "metadata": {
        "id": "IrFsS7iEExwT"
      },
      "execution_count": null,
      "outputs": []
    },
    {
      "cell_type": "code",
      "source": [
        "train.info(), train.shape"
      ],
      "metadata": {
        "id": "CkKsyEwGE47F"
      },
      "execution_count": null,
      "outputs": []
    },
    {
      "cell_type": "code",
      "source": [
        "test.info(),  test.shape"
      ],
      "metadata": {
        "id": "gXzpSyzmFBNU"
      },
      "execution_count": null,
      "outputs": []
    },
    {
      "cell_type": "code",
      "source": [
        "X = train.iloc[:, 1:785]\n",
        "y = train.iloc[:, 0]\n",
        "\n",
        "X_test = test.iloc[:, 0:784]\n"
      ],
      "metadata": {
        "id": "mFwsxXiuFEv8"
      },
      "execution_count": null,
      "outputs": []
    },
    {
      "cell_type": "code",
      "source": [
        "\n",
        "import numpy as np # imports the numpy module and creates an alias 'np'\n",
        "\n",
        "X_tsn = X/255 # removed np.ubyte. It's not needed since X is already assumed to be a DataFrame of numeric type\n",
        "\n",
        "from sklearn.manifold import TSNE\n",
        "tsne = TSNE()\n",
        "\n",
        "tsne_res = tsne.fit_transform(X_tsn)"
      ],
      "metadata": {
        "id": "m-rMSJHDKTSH"
      },
      "execution_count": null,
      "outputs": []
    },
    {
      "cell_type": "code",
      "source": [
        "# Install matplotlib if it is not already installed\n",
        "!pip install matplotlib\n",
        "\n",
        "# Import the pyplot module from matplotlib\n",
        "import matplotlib.pyplot as plt\n",
        "\n",
        "# Replot the figure with the correct variable name\n",
        "plt.figure(figsize=(14, 12))\n",
        "plt.scatter(tsne_res[:, 0], tsne_res[:, 1], c=y, s=2)\n",
        "plt.xticks([])\n",
        "plt.yticks([])\n",
        "plt.colorbar()"
      ],
      "metadata": {
        "id": "s3XE6BMqQdry"
      },
      "execution_count": null,
      "outputs": []
    },
    {
      "cell_type": "code",
      "source": [
        "plt.figure(figsize=(14, 12))\n",
        "plt.scatter(tsne_res[:,0], tsne_res[:,1], c=y, s=2)\n",
        "plt.xticks([])\n",
        "plt.yticks([])\n",
        "plt.colorbar();"
      ],
      "metadata": {
        "id": "CG4HgxKlHuxv"
      },
      "execution_count": null,
      "outputs": []
    },
    {
      "cell_type": "code",
      "source": [
        "from sklearn.model_selection import train_test_split\n",
        "X_train, X_validation, y_train, y_validation = train_test_split(X, y, test_size = 0.2,random_state = 1212)\n"
      ],
      "metadata": {
        "id": "foa65LFHIDpk"
      },
      "execution_count": null,
      "outputs": []
    },
    {
      "cell_type": "code",
      "source": [
        "print('X_train:', X_train.shape)\n",
        "print('y_train:', y_train.shape)\n",
        "print('X_validation:', X_validation.shape)\n",
        "print('y_validation:', y_validation.shape)\n"
      ],
      "metadata": {
        "id": "FBBh6Gn4IIoz"
      },
      "execution_count": null,
      "outputs": []
    },
    {
      "cell_type": "code",
      "source": [
        "print('x_train:', X_train.shape)\n",
        "print('y_train:', y_train.shape)\n",
        "print('x_validation:', X_validation.shape)\n",
        "print('y_validation:', y_validation.shape)\n",
        "print('x_test:', X_test.shape)"
      ],
      "metadata": {
        "id": "uEzoGMAVIS4D"
      },
      "execution_count": null,
      "outputs": []
    },
    {
      "cell_type": "code",
      "source": [
        "X_train = X_train.to_numpy().reshape(-1, 2, 2, 2)  # Reshape to dimensions compatible with the data\n",
        "y_train = y_train.values\n",
        "X_validation = X_validation.to_numpy().reshape(-1, 2, 2, 2)  # Reshape to dimensions compatible with the data\n",
        "y_validation = y_validation.values\n",
        "x_test = test.drop(columns=['longitude', 'latitude', 'housing_median_age', 'total_rooms', 'total_bedrooms', 'population', 'households', 'median_income']).to_numpy().reshape(-1, 2, 2, 2)\n"
      ],
      "metadata": {
        "id": "d7UFuyToWC6m"
      },
      "execution_count": null,
      "outputs": []
    },
    {
      "cell_type": "code",
      "source": [
        "# Save image parameters to the constants that we will use later for data re-shaping and for model training.\n",
        "(_, IMAGE_WIDTH, IMAGE_HEIGHT, _) = X_train.shape  # Added an extra '_' to unpack all 4 values\n",
        "IMAGE_CHANNELS = 1\n",
        "\n",
        "print('IMAGE_WIDTH:', IMAGE_WIDTH)\n",
        "print('IMAGE_HEIGHT:', IMAGE_HEIGHT)\n",
        "print('IMAGE_CHANNELS:', IMAGE_CHANNELS)\n"
      ],
      "metadata": {
        "id": "gOvFqrO1IYZU"
      },
      "execution_count": null,
      "outputs": []
    },
    {
      "cell_type": "code",
      "source": [
        "pd.DataFrame(X_train[0].reshape(4, 2))  # Reshape to 2D before creating DataFrame"
      ],
      "metadata": {
        "id": "9lHPFNYCIsii"
      },
      "execution_count": null,
      "outputs": []
    },
    {
      "cell_type": "code",
      "source": [
        "# Assuming X_train is (13600, 2, 2, 2)\n",
        "# We need to reshape it to (2, 2) for grayscale or (2, 2, 3/4) for color image\n",
        "\n",
        "# For grayscale, assuming the last two dimensions represent the image:\n",
        "plt.imshow(X_train[0, :, :, 0], cmap=plt.cm.binary)  # Take the first channel\n",
        "plt.show()\n",
        "\n",
        "# Alternatively, if you want to combine channels, you can sum or average them:\n",
        "# plt.imshow(X_train[0].sum(axis=-1), cmap=plt.cm.binary)  # Sum across channels\n",
        "# plt.imshow(X_train[0].mean(axis=-1), cmap=plt.cm.binary)  # Average across channels"
      ],
      "metadata": {
        "id": "HSV4tnTOItaM"
      },
      "execution_count": null,
      "outputs": []
    },
    {
      "cell_type": "code",
      "source": [
        "import math\n",
        "numbers_to_display = 100\n",
        "num_cells = math.ceil(math.sqrt(numbers_to_display))\n",
        "plt.figure(figsize=(20,20))\n",
        "for i in range(numbers_to_display):\n",
        "    plt.subplot(num_cells, num_cells, i+1)\n",
        "    plt.xticks([])\n",
        "    plt.yticks([])\n",
        "    plt.grid(False)\n",
        "    # Assuming X_train contains the image data\n",
        "    plt.imshow(X_train[i, :, :, 0], cmap=plt.cm.binary)  # Accessing the first channel for grayscale\n",
        "    # If y_train contains labels corresponding to X_train\n",
        "    plt.xlabel(y_train[i])\n",
        "plt.show()"
      ],
      "metadata": {
        "id": "iOXjwnKwIxaG"
      },
      "execution_count": null,
      "outputs": []
    },
    {
      "cell_type": "code",
      "source": [
        "# Reshape X_train, X_validation, and x_test to (num_samples, 2, 2, 2)\n",
        "# The original data likely has 2 channels or some other structure\n",
        "\n",
        "# Ensure that IMAGE_WIDTH, IMAGE_HEIGHT, and IMAGE_CHANNELS are set correctly\n",
        "# based on your data's structure\n",
        "\n",
        "# Example: If your original data is (num_samples, 8), reshape as follows:\n",
        "X_train = X_train.reshape(X_train.shape[0], 2, 2, 2)\n",
        "X_validation = X_validation.reshape(X_validation.shape[0], 2, 2, 2)\n",
        "x_test = x_test.reshape(x_test.shape[0], 2, 2, 2)\n",
        "\n",
        "# Update image parameters\n",
        "(_, IMAGE_WIDTH, IMAGE_HEIGHT, IMAGE_CHANNELS) = X_train.shape\n",
        "\n",
        "# Now you can reshape with channels\n",
        "x_train_with_chanels = X_train.reshape(\n",
        "    X_train.shape[0],\n",
        "    IMAGE_WIDTH,\n",
        "    IMAGE_HEIGHT,\n",
        "    IMAGE_CHANNELS\n",
        ")\n",
        "\n",
        "x_validation_with_chanels = X_validation.reshape(\n",
        "    X_validation.shape[0],\n",
        "    IMAGE_WIDTH,\n",
        "    IMAGE_HEIGHT,\n",
        "    IMAGE_CHANNELS\n",
        ")\n",
        "\n",
        "x_test_with_chanels = x_test.reshape(\n",
        "    x_test.shape[0],\n",
        "    IMAGE_WIDTH,\n",
        "    IMAGE_HEIGHT,\n",
        "    IMAGE_CHANNELS\n",
        ")"
      ],
      "metadata": {
        "id": "1f2CklB_I1Zg"
      },
      "execution_count": null,
      "outputs": []
    },
    {
      "cell_type": "code",
      "source": [
        "print('x_train_with_chanels:', x_train_with_chanels.shape)\n",
        "print('x_validation_with_chanels:', x_validation_with_chanels.shape)\n",
        "print('x_test_with_chanels:', x_test_with_chanels.shape)"
      ],
      "metadata": {
        "id": "HwidiUzBI6k2"
      },
      "execution_count": null,
      "outputs": []
    },
    {
      "cell_type": "code",
      "source": [
        "x_train_normalized = x_train_with_chanels / 255\n",
        "x_validation_normalized = x_validation_with_chanels / 255\n",
        "x_test_normalized = x_test_with_chanels / 2"
      ],
      "metadata": {
        "id": "GH1IjLpgJCbp"
      },
      "execution_count": null,
      "outputs": []
    },
    {
      "cell_type": "code",
      "source": [
        "# Access the element using valid indices based on the shape (2, 2, 2)\n",
        "# For example, to access the element at the first row, second column, first channel:\n",
        "print(x_train_normalized[0][0][1][0])  # Accessing element at [0, 1, 0]\n",
        "\n",
        "# Or to access all elements in a specific channel:\n",
        "print(x_train_normalized[0][:, :, 0])  # Accessing all elements in the first channel\n",
        "\n",
        "# Remember to adjust the indices according to the dimensions of your data."
      ],
      "metadata": {
        "id": "74ueXYf3JGQ8"
      },
      "execution_count": null,
      "outputs": []
    },
    {
      "cell_type": "code",
      "source": [
        "import tensorflow as tf # Make sure tensorflow is imported in the current cell\n",
        "\n",
        "model = tf.keras.models.Sequential()\n",
        "\n",
        "model.add(tf.keras.layers.Convolution2D(\n",
        "    input_shape=(IMAGE_WIDTH, IMAGE_HEIGHT, IMAGE_CHANNELS),\n",
        "    kernel_size=(2, 2), # Changed kernel size to (2, 2) or (1, 1)\n",
        "    filters=8,\n",
        "    strides=1,\n",
        "    activation=tf.keras.activations.relu,\n",
        "    kernel_initializer=tf.keras.initializers.VarianceScaling(),\n",
        "    padding='same'  # Add padding to avoid negative dimensions\n",
        "))\n",
        "\n",
        "# ... (rest of the model definition)"
      ],
      "metadata": {
        "id": "X04n3mTIJI4G"
      },
      "execution_count": null,
      "outputs": []
    },
    {
      "cell_type": "code",
      "source": [
        "model.summary()"
      ],
      "metadata": {
        "id": "k5N5d2tcJWco"
      },
      "execution_count": null,
      "outputs": []
    },
    {
      "cell_type": "code",
      "source": [
        "tf.keras.utils.plot_model(\n",
        "    model,\n",
        "    show_shapes=True,\n",
        "    show_layer_names=True,\n",
        ")"
      ],
      "metadata": {
        "id": "edLdRsupJccl"
      },
      "execution_count": null,
      "outputs": []
    },
    {
      "cell_type": "code",
      "source": [],
      "metadata": {
        "id": "uDKd43E8JhG7"
      },
      "execution_count": null,
      "outputs": []
    }
  ]
}