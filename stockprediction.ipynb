{
  "nbformat": 4,
  "nbformat_minor": 0,
  "metadata": {
    "colab": {
      "private_outputs": true,
      "provenance": [],
      "mount_file_id": "1eLm9rjVwCsXuZzFdlugb7sWtpaLrSQqi",
      "authorship_tag": "ABX9TyNYC4330Hslsr71ZB6MKzft",
      "include_colab_link": true
    },
    "kernelspec": {
      "name": "python3",
      "display_name": "Python 3"
    },
    "language_info": {
      "name": "python"
    }
  },
  "cells": [
    {
      "cell_type": "markdown",
      "metadata": {
        "id": "view-in-github",
        "colab_type": "text"
      },
      "source": [
        "<a href=\"https://colab.research.google.com/github/diikshasharmaa/diksha/blob/main/stockprediction.ipynb\" target=\"_parent\"><img src=\"https://colab.research.google.com/assets/colab-badge.svg\" alt=\"Open In Colab\"/></a>"
      ]
    },
    {
      "cell_type": "code",
      "source": [
        "\n",
        "import os\n",
        "from google.colab import drive\n",
        "import numpy as np\n",
        "import pandas as pd\n",
        "\n",
        "drive.mount('/content/gdrive')\n",
        "\n",
        "for dirname, _, filenames in os.walk('/Amazon.csv/'):\n",
        "    for filename in filenames:\n",
        "        print(os.path.join(dirname, filename))\n",
        "for dirname, _, filenames in os.walk('/Apple.csv/'):\n",
        "    for filename in filenames:\n",
        "        print(os.path.join(dirname, filename))\n",
        "for dirname, _, filenames in os.walk('/Google.csv/'):\n",
        "    for filename in filenames:\n",
        "        print(os.path.join(dirname, filename))\n",
        "for dirname, _, filenames in os.walk('/Microsoft.csv/'):\n",
        "    for filename in filenames:\n",
        "        print(os.path.join(dirname, filename))\n",
        "for dirname, _, filenames in os.walk('/Netflix.csv/'):\n",
        "    for filename in filenames:\n",
        "        print(os.path.join(dirname, filename))"
      ],
      "metadata": {
        "id": "dxvCNKM_1DL_"
      },
      "execution_count": null,
      "outputs": []
    },
    {
      "cell_type": "code",
      "source": [
        "from matplotlib import pyplot as plt\n",
        "import seaborn as sns\n"
      ],
      "metadata": {
        "id": "li0Nfowp2JxF"
      },
      "execution_count": null,
      "outputs": []
    },
    {
      "cell_type": "code",
      "source": [
        "import os\n",
        "from google.colab import drive\n",
        "import numpy as np\n",
        "import pandas as pd\n",
        "\n",
        "# Mount Google Drive\n",
        "drive.mount('/content/gdrive')\n",
        "\n",
        "# Assuming your CSV files are in 'My Drive' within Google Drive\n",
        "# Update the path below if they're in a different folder\n",
        "file_path = '/content/gdrive/MyDrive/'  # Corrected path to the directory - Removed extra space\n",
        "\n",
        "# List files in the directory to verify file names and locations\n",
        "print(os.listdir(file_path))\n",
        "\n",
        "# Read the CSV files, ensuring case-sensitivity and path accuracy\n",
        "df1 = pd.read_csv(file_path + \"Amazon.csv\")  # Make sure file name matches exactly\n",
        "df2 = pd.read_csv(file_path + \"Apple.csv\")\n",
        "df3 = pd.read_csv(file_path + \"Google.csv\")\n",
        "df4 = pd.read_csv(file_path + \"Microsoft.csv\")\n",
        "df5 = pd.read_csv(file_path + \"Netflix.csv\")"
      ],
      "metadata": {
        "id": "6jMMAyB_32Nd"
      },
      "execution_count": null,
      "outputs": []
    },
    {
      "cell_type": "code",
      "source": [
        "df2_n=pd.read_csv(\"Google.csv\")\n",
        "df4_n=pd.read_csv(\"Netflix.csv\")\n",
        "df_date=pd.read_csv(\"Apple.csv\")"
      ],
      "metadata": {
        "id": "pFDKA9ME4nvn"
      },
      "execution_count": null,
      "outputs": []
    },
    {
      "cell_type": "code",
      "source": [
        "df_date[df_date.columns[:-1]]=0"
      ],
      "metadata": {
        "id": "78WVDGGf42pv"
      },
      "execution_count": null,
      "outputs": []
    },
    {
      "cell_type": "code",
      "source": [
        "df_date['Date'][0]"
      ],
      "metadata": {
        "id": "V8ihAp-W47qM"
      },
      "execution_count": null,
      "outputs": []
    },
    {
      "cell_type": "code",
      "source": [
        "np.where(df_date[\"Date\"]==\"2004-08-18\")"
      ],
      "metadata": {
        "id": "ww_p7dVi4_o6"
      },
      "execution_count": null,
      "outputs": []
    },
    {
      "cell_type": "code",
      "source": [
        "def add_empty_rows(df,end):\n",
        "\n",
        "    for i in range(end,-1,-1):\n",
        "        df=pd.concat([pd.DataFrame([[0,0,0,0,0,0,df_date['Date'][i]]], columns=df.columns), df], ignore_index=True)\n",
        "    return df"
      ],
      "metadata": {
        "id": "i7dnM-mb5HbF"
      },
      "execution_count": null,
      "outputs": []
    },
    {
      "cell_type": "code",
      "source": [
        "df2_n=add_empty_rows(df2_n,1161)"
      ],
      "metadata": {
        "id": "8s4XRB2a5I06"
      },
      "execution_count": null,
      "outputs": []
    },
    {
      "cell_type": "code",
      "source": [
        "np.where(df_date[\"Date\"]==\"2002-05-22\")"
      ],
      "metadata": {
        "id": "Cv2e32Qc5N-K"
      },
      "execution_count": null,
      "outputs": []
    },
    {
      "cell_type": "code",
      "source": [
        "df4_n=add_empty_rows(df4_n,597)"
      ],
      "metadata": {
        "id": "Tah6-u0E5ST4"
      },
      "execution_count": null,
      "outputs": []
    },
    {
      "cell_type": "code",
      "source": [
        "#Setting Date as Index and also changing its Datatype\n"
      ],
      "metadata": {
        "id": "xmOKwoD65WEm"
      },
      "execution_count": null,
      "outputs": []
    },
    {
      "cell_type": "code",
      "source": [
        "def set_ind(df,cmp_name):\n",
        "    df['Date'] = df['Date'].apply(pd.to_datetime)\n",
        "    df['Company']=cmp_name\n",
        "    df.set_index('Company',inplace=True)"
      ],
      "metadata": {
        "id": "3_khMRdh5d4c"
      },
      "execution_count": null,
      "outputs": []
    },
    {
      "cell_type": "code",
      "source": [
        "\n",
        "import os\n",
        "from google.colab import drive\n",
        "import numpy as np\n",
        "import pandas as pd\n",
        "\n",
        "# Mount Google Drive\n",
        "drive.mount('/content/gdrive')\n",
        "\n",
        "# Assuming your CSV files are in"
      ],
      "metadata": {
        "id": "Mj0SgCnU5iJP"
      },
      "execution_count": null,
      "outputs": []
    },
    {
      "cell_type": "code",
      "source": [
        "# Let's have a look at the datasets now.\n",
        "import os\n",
        "from google.colab import drive\n",
        "import numpy as np\n",
        "import pandas as pd\n",
        "\n",
        "# Mount Google Drive\n",
        "drive.mount('/content/gdrive')\n",
        "\n",
        "# Assuming your CSV files are in 'My Drive' within Google Drive\n",
        "# Update the path below if they're in a different folder\n",
        "file_path = '/content/gdrive/MyDrive/'  # Corrected path to the directory - Removed extra space\n",
        "\n",
        "# List files in the directory to verify file names and locations\n",
        "print(os.listdir(file_path))\n",
        "\n",
        "# Read the CSV files, ensuring case-sensitivity and path accuracy\n",
        "df1 = pd.read_csv('/content/Amazon.csv')  # Make sure file name matches exactly\n",
        "df2 = pd.read_csv('/content/Apple.csv')\n",
        "df3 = pd.read_csv('/content/Google.csv')\n",
        "df4 = pd.read_csv('/content/Microsoft.csv')\n",
        "df5 = pd.read_csv('/content/Netflix.csv')\n",
        "\n",
        "# Now you can use df1, df2, etc.\n",
        "df1.head()\n"
      ],
      "metadata": {
        "id": "JAboqOEO5t7L"
      },
      "execution_count": null,
      "outputs": []
    },
    {
      "cell_type": "code",
      "source": [
        "df1.head()"
      ],
      "metadata": {
        "id": "8DFjTDbo54Zr"
      },
      "execution_count": null,
      "outputs": []
    },
    {
      "cell_type": "code",
      "source": [
        "df2.head()"
      ],
      "metadata": {
        "id": "siM8OV7S5-Yh"
      },
      "execution_count": null,
      "outputs": []
    },
    {
      "cell_type": "code",
      "source": [
        "df3.head()"
      ],
      "metadata": {
        "id": "wmtgtbnJ6DZu"
      },
      "execution_count": null,
      "outputs": []
    },
    {
      "cell_type": "code",
      "source": [
        "df4.head()"
      ],
      "metadata": {
        "id": "01hOlOq56JTt"
      },
      "execution_count": null,
      "outputs": []
    },
    {
      "cell_type": "code",
      "source": [
        "df5.head()"
      ],
      "metadata": {
        "id": "Fs6tlUhR6NB8"
      },
      "execution_count": null,
      "outputs": []
    },
    {
      "cell_type": "code",
      "source": [
        "#Exploratory Data Analysis\n",
        "\n",
        "#Analysing Volume of Stock Traded\n",
        "\n"
      ],
      "metadata": {
        "id": "TJvU-Jic6RgO"
      },
      "execution_count": null,
      "outputs": []
    },
    {
      "cell_type": "code",
      "source": [
        "def volume_analysis(df,cmp_name):\n",
        "    df['Volume'].plot(figsize=(10,7),title='Volume Of '+cmp_name+' Stock Prices',c='orange')\n",
        "    plt.ylabel('Volume')\n",
        "    plt.show()\n"
      ],
      "metadata": {
        "id": "LLZYh53r6ZnU"
      },
      "execution_count": null,
      "outputs": []
    },
    {
      "cell_type": "code",
      "source": [
        "volume_analysis(df1,'Apple')\n",
        "volume_analysis(df2,'Google')\n",
        "volume_analysis(df3,'Microsoft')\n",
        "volume_analysis(df4,'Netflix')\n",
        "volume_analysis(df5,'Amazon')"
      ],
      "metadata": {
        "id": "NV6xpauq6c7N"
      },
      "execution_count": null,
      "outputs": []
    },
    {
      "cell_type": "code",
      "source": [
        "def price(df,cmp_name,price_type):\n",
        "    plt.figure(figsize=(16,8))\n",
        "    if(price_type=='Open'):\n",
        "        clr='black'\n",
        "    elif(price_type=='Close'):\n",
        "        clr='green'\n",
        "    elif(price_type=='High'):\n",
        "        clr='blue'\n",
        "    else:\n",
        "        clr='purple'\n",
        "    df[price_type].plot(c=clr)\n",
        "    plt.ylabel(price_type)\n",
        "    plt.xlabel('Year')\n",
        "    plt.title(price_type+\" Price of \"+cmp_name)\n",
        "    plt.show()"
      ],
      "metadata": {
        "id": "gNEyExS-61BH"
      },
      "execution_count": null,
      "outputs": []
    },
    {
      "cell_type": "code",
      "source": [
        "#Opening price"
      ],
      "metadata": {
        "id": "2aOrbQuR65tE"
      },
      "execution_count": null,
      "outputs": []
    },
    {
      "cell_type": "code",
      "source": [
        "price(df1,\"Apple\",\"Open\")\n",
        "price(df2,\"Google\",\"Open\")\n",
        "price(df3,\"Microsoft\",\"Open\")\n",
        "price(df4,\"Netflix\",\"Open\")\n",
        "price(df5,\"Amazon\",\"Open\")"
      ],
      "metadata": {
        "id": "Y9kgLzUK6_GQ"
      },
      "execution_count": null,
      "outputs": []
    },
    {
      "cell_type": "code",
      "source": [
        "price(df1,\"Apple\",\"High\")\n",
        "price(df2,\"Google\",\"High\")\n",
        "price(df3,\"Microsoft\",\"High\")\n",
        "price(df4,\"Netflix\",\"High\")\n",
        "price(df5,\"Amazon\",\"High\")\n"
      ],
      "metadata": {
        "id": "FpFbG-oS7E5o"
      },
      "execution_count": null,
      "outputs": []
    },
    {
      "cell_type": "code",
      "source": [
        "price(df1,\"Apple\",\"Low\")\n",
        "price(df2,\"Google\",\"Low\")\n",
        "price(df3,\"Microsoft\",\"Low\")\n",
        "price(df4,\"Netflix\",\"Low\")\n",
        "price(df5,\"Amazon\",\"Low\")"
      ],
      "metadata": {
        "id": "92ypY0EV7WFP"
      },
      "execution_count": null,
      "outputs": []
    },
    {
      "cell_type": "code",
      "source": [
        "df1.info()"
      ],
      "metadata": {
        "id": "KmBv6Z3q7cI-"
      },
      "execution_count": null,
      "outputs": []
    },
    {
      "cell_type": "code",
      "source": [
        "def high_low(df,cmp_name):\n",
        "    plt.figure(figsize=(20,8))\n",
        "    df['Daily Range']= df['High']-df['Low']\n",
        "    plt.plot(df['Date'],df['Daily Range'],c='blue')\n",
        "    plt.xlabel(\"Years\")\n",
        "    plt.ylabel(\"Stock Price Trading Range\")\n",
        "    plt.title(\"Daily Stock Price Range for \"+cmp_name)\n",
        "    plt.show()"
      ],
      "metadata": {
        "id": "q2IT7bFV7k76"
      },
      "execution_count": null,
      "outputs": []
    },
    {
      "cell_type": "code",
      "source": [
        "high_low(df1,'Apple')\n",
        "high_low(df2,'Google')\n",
        "high_low(df3,'Microsoft')\n",
        "high_low(df4,'Netflix')\n",
        "high_low(df5,'Amazon')"
      ],
      "metadata": {
        "id": "spoWqcWK7nlc"
      },
      "execution_count": null,
      "outputs": []
    },
    {
      "cell_type": "code",
      "source": [
        "#Analysing the Daily Returns on Stock"
      ],
      "metadata": {
        "id": "WLQrSj2x84XB"
      },
      "execution_count": null,
      "outputs": []
    },
    {
      "cell_type": "code",
      "source": [
        "def daily_returns(df,cmp_name):\n",
        "    df['Daily Return'] = df['Adj Close'].pct_change()\n",
        "    #We choose Adj Close here because it is inidicated as the fair price of the stock on that day. However you may also take CLose price for the analysis.\n",
        "    plt.figure(figsize=(20, 10))\n",
        "    df['Daily Return'].hist(bins=40)\n",
        "    plt.xlabel('Daily Return')\n",
        "    plt.title('Dialy Returns On '+cmp_name)\n",
        "    plt.show()\n"
      ],
      "metadata": {
        "id": "NkfBeZXz88Tx"
      },
      "execution_count": null,
      "outputs": []
    },
    {
      "cell_type": "code",
      "source": [
        "daily_returns(df1,'Apple')\n",
        "daily_returns(df2,'Google')\n",
        "daily_returns(df3,'Microsoft')\n",
        "daily_returns(df4,'Netflix')\n",
        "daily_returns(df5,'Amazon')\n"
      ],
      "metadata": {
        "id": "WgzSBOZx9CFM"
      },
      "execution_count": null,
      "outputs": []
    },
    {
      "cell_type": "code",
      "source": [
        "def compare(price_type):\n",
        "    plt.figure(figsize=(20,15))\n",
        "    plt.plot(df1['Date'],df1[price_type], label = \"Apple\")\n",
        "    plt.plot(df2_n['Date'], df2_n[price_type], label = \"Google\")\n",
        "    plt.plot(df3['Date'],df3[price_type], label = \"Microsoft\")\n",
        "    plt.plot(df4_n['Date'], df4_n[price_type], label = \"Netflix\")\n",
        "    plt.plot(df5['Date'],df5[price_type], label = \"Amazon\")\n",
        "    plt.legend()\n",
        "    plt.xlabel(\"Years\")\n",
        "    plt.ylabel(price_type+\" Price\")\n",
        "    plt.title(price_type +\" Price Comparison of MAANG\")\n",
        "    plt.show()\n"
      ],
      "metadata": {
        "id": "6MxsEDXJ9KGG"
      },
      "execution_count": null,
      "outputs": []
    },
    {
      "cell_type": "code",
      "source": [
        "price=['Open','High','Low','Close','Adj Close']\n",
        "for p in price:\n",
        "    compare(p)"
      ],
      "metadata": {
        "id": "sNvOzuMb9RTf"
      },
      "execution_count": null,
      "outputs": []
    }
  ]
}